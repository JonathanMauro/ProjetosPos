{
 "cells": [
  {
   "cell_type": "code",
   "execution_count": 2,
   "id": "b88389db",
   "metadata": {},
   "outputs": [],
   "source": [
    "from pyspark.sql import SparkSession\n",
    "from pyspark.ml.feature import VectorAssembler, StandardScaler\n",
    "from pyspark.ml.regression import RandomForestRegressor\n",
    "from pyspark.ml.evaluation import RegressionEvaluator\n",
    "from pyspark.sql.types import StructType, StructField, IntegerType, DoubleType\n",
    "from pyspark.ml import Pipeline"
   ]
  },
  {
   "cell_type": "code",
   "execution_count": 3,
   "id": "cd0d0457",
   "metadata": {},
   "outputs": [
    {
     "name": "stdout",
     "output_type": "stream",
     "text": [
      "+---+--------------------+-----+-----+----------------+--------+-----------------+-------------+\n",
      "| id|          data_exame|idade|  imc|pressao_arterial|insulina|exercicio_semanal|nivel_glicose|\n",
      "+---+--------------------+-----+-----+----------------+--------+-----------------+-------------+\n",
      "|  1|2025-05-22 20:48:...|   56|33.86|             147|   53.91|                1|        83.43|\n",
      "|  2|2025-03-26 20:48:...|   69|23.61|             149|  113.76|                3|        67.09|\n",
      "|  3|2024-08-16 20:48:...|   46|32.77|             110|   44.32|                3|       168.76|\n",
      "|  4|2024-11-28 20:48:...|   32|25.12|             117|  129.28|                3|       156.02|\n",
      "|  5|2024-08-02 20:48:...|   60|23.53|             123|   52.98|                3|        65.14|\n",
      "|  6|2024-12-30 20:48:...|   25|27.55|              97|   99.15|                1|       147.46|\n",
      "|  7|2025-07-03 20:48:...|   78|28.71|             148|   70.14|                1|        88.02|\n",
      "|  8|2024-12-28 20:48:...|   38|36.56|             138|    98.1|                3|       103.88|\n",
      "|  9|2024-12-26 20:48:...|   56| 28.6|             106|   63.68|                0|         98.1|\n",
      "| 10|2025-01-06 20:48:...|   75|27.97|             149|   75.12|                3|        80.21|\n",
      "| 11|2024-08-02 20:48:...|   36|34.98|             134|   81.23|                3|       129.52|\n",
      "| 12|2025-07-19 20:48:...|   40|30.01|             158|   49.93|                0|       103.78|\n",
      "| 13|2025-02-23 20:48:...|   28|23.78|             121|  102.22|                2|         85.7|\n",
      "| 14|2024-12-12 20:48:...|   28|33.78|             133|    64.6|                1|        60.86|\n",
      "| 15|2024-09-17 20:48:...|   41| 23.3|             154|   73.14|                2|        73.19|\n",
      "| 16|2024-09-15 20:48:...|   70|23.75|              97|   50.17|                4|        50.76|\n",
      "| 17|2024-11-20 20:48:...|   53|22.76|             132|    3.13|                4|       100.37|\n",
      "| 18|2025-03-27 20:48:...|   57|22.32|              90|   74.27|                1|         64.1|\n",
      "| 19|2025-04-13 20:48:...|   41|28.67|             140|  152.38|                3|        92.03|\n",
      "| 20|2025-06-06 20:48:...|   20|25.71|             113|  103.54|                3|        141.1|\n",
      "+---+--------------------+-----+-----+----------------+--------+-----------------+-------------+\n",
      "only showing top 20 rows\n"
     ]
    }
   ],
   "source": [
    "#Iniciar a sessao Spark\n",
    "spark = SparkSession.builder \\\n",
    "    .appName(\"DiabetesPrediction\") \\\n",
    "    .getOrCreate()\n",
    "\n",
    "# Carregar o dataset\n",
    "df = spark.read.csv(\"pesquisa_diabetes.csv\", header=True, inferSchema=True)\n",
    "\n",
    "df.show()"
   ]
  },
  {
   "cell_type": "code",
   "execution_count": 4,
   "id": "757252a4",
   "metadata": {},
   "outputs": [
    {
     "name": "stdout",
     "output_type": "stream",
     "text": [
      "Primeiras linhas do DataFrame:\n",
      "+---+--------------------+-----+-----+----------------+--------+-----------------+-------------+\n",
      "| id|          data_exame|idade|  imc|pressao_arterial|insulina|exercicio_semanal|nivel_glicose|\n",
      "+---+--------------------+-----+-----+----------------+--------+-----------------+-------------+\n",
      "|  1|2025-05-22 20:48:...|   56|33.86|             147|   53.91|                1|        83.43|\n",
      "|  2|2025-03-26 20:48:...|   69|23.61|             149|  113.76|                3|        67.09|\n",
      "|  3|2024-08-16 20:48:...|   46|32.77|             110|   44.32|                3|       168.76|\n",
      "|  4|2024-11-28 20:48:...|   32|25.12|             117|  129.28|                3|       156.02|\n",
      "|  5|2024-08-02 20:48:...|   60|23.53|             123|   52.98|                3|        65.14|\n",
      "+---+--------------------+-----+-----+----------------+--------+-----------------+-------------+\n",
      "only showing top 5 rows\n",
      "\n",
      "Estrutura do DataFrame:\n",
      "root\n",
      " |-- id: integer (nullable = true)\n",
      " |-- data_exame: timestamp (nullable = true)\n",
      " |-- idade: integer (nullable = true)\n",
      " |-- imc: double (nullable = true)\n",
      " |-- pressao_arterial: integer (nullable = true)\n",
      " |-- insulina: double (nullable = true)\n",
      " |-- exercicio_semanal: integer (nullable = true)\n",
      " |-- nivel_glicose: double (nullable = true)\n",
      "\n"
     ]
    }
   ],
   "source": [
    "#Mostrar as primeiras linhas do DataFrame\n",
    "print(\"Primeiras linhas do DataFrame:\")\n",
    "df.show(5)\n",
    "print(\"\\nEstrutura do DataFrame:\")\n",
    "df.printSchema()"
   ]
  },
  {
   "cell_type": "code",
   "execution_count": 7,
   "id": "c71aecc0",
   "metadata": {},
   "outputs": [],
   "source": [
    "#Preparar os dados para o modelo\n",
    "\n",
    "feature_columns = [\"idade\",\"imc\", \"pressao_arterial\", \"insulina\", \"exercicio_semanal\"]  \n",
    "assembler = VectorAssembler(inputCols=feature_columns, outputCol=\"features\")\n",
    "scaler = StandardScaler(inputCol=\"features\", outputCol=\"scaledFeatures\")\n",
    "\n",
    "#Criar e treinar o modelo de Random Forest\n",
    "rf = RandomForestRegressor(featuresCol=\"scaledFeatures\", labelCol=\"nivel_glicose\", numTrees=100)\n",
    "\n",
    "#criar um pipeline\n",
    "pipeline = Pipeline(stages=[assembler, scaler, rf])\n",
    "\n",
    "# Dividir os dados em treino e teste\n",
    "train_data, test_data = df.randomSplit([0.8, 0.2], seed=42)\n",
    "\n",
    "# Ajustar o pipeline aos dados de treino\n",
    "model = pipeline.fit(train_data)\n",
    "\n"
   ]
  },
  {
   "cell_type": "code",
   "execution_count": 8,
   "id": "9487d939",
   "metadata": {},
   "outputs": [
    {
     "name": "stdout",
     "output_type": "stream",
     "text": [
      "Root Mean Square Error (RMSE): 31.63000238934952\n"
     ]
    }
   ],
   "source": [
    "#Fazer previsões nos dados de teste\n",
    "predictions = model.transform(test_data)\n",
    "\n",
    "# Avaliar o modelo\n",
    "'''\n",
    "    O erro quadrático médio (RMSE - Root Mean Square Error) é uma métrica comum para avaliar modelos de regressão.\n",
    "    - O RMSE mede a média das diferenças quadráticas entre os valores previstos e os valores reais.\n",
    "    - Um RMSE menor indica um modelo melhor, pois significa que as previsões estão mais próximas dos valores reais.\n",
    "    - O RMSE é especialmente útil quando as diferenças entre os valores previstos e reais são importantes para a aplicação, como em previsões de saúde.\n",
    "    - UM RMSE de 0.0 indica que o modelo prevê perfeitamente os valores reais, enquanto valores maiores indicam maior erro nas previsões.\n",
    "\n",
    "'''\n",
    "\n",
    "evaluator = RegressionEvaluator(labelCol=\"nivel_glicose\", predictionCol=\"prediction\", metricName=\"rmse\")\n",
    "rmse = evaluator.evaluate(predictions)\n",
    "print(f\"Root Mean Square Error (RMSE): {rmse}\")\n",
    "\n",
    "\n",
    "\n"
   ]
  },
  {
   "cell_type": "code",
   "execution_count": 9,
   "id": "59a2d873",
   "metadata": {},
   "outputs": [],
   "source": [
    "# Função para prever o nível de glicose de um novo paciente\n",
    "def prever_nivel_glicose(idade, imc, pressao_arterial, insulina, exercicio_semanal):\n",
    "    # Criar um DataFrame com os dados do novo paciente\n",
    "    schema = StructType([\n",
    "        StructField(\"idade\", IntegerType(), True),\n",
    "        StructField(\"imc\", DoubleType(), True),\n",
    "        StructField(\"pressao_arterial\", IntegerType(), True),\n",
    "        StructField(\"insulina\", DoubleType(), True),\n",
    "        StructField(\"exercicio_semanal\", IntegerType(), True)\n",
    "    ])\n",
    "    \n",
    "    novo_paciente = spark.createDataFrame([( idade, imc, pressao_arterial, insulina, exercicio_semanal)], schema)\n",
    "    \n",
    "    # Fazer previsões\n",
    "    previsao = model.transform(novo_paciente)\n",
    "    \n",
    "    # Retornar o nível de glicose previsto\n",
    "    return previsao.select(\"prediction\").collect()[0][0]"
   ]
  },
  {
   "cell_type": "code",
   "execution_count": 10,
   "id": "6163983d",
   "metadata": {},
   "outputs": [
    {
     "name": "stdout",
     "output_type": "stream",
     "text": [
      "\n",
      " Previsão para o novo paciente:\n",
      "Idade: 45, IMC: 28.5, Pressão Arterial: 130, Insulina: 150.0, Exercício Semanal: 3\n",
      "Nível de Glicose Previsto: 98.61\n"
     ]
    }
   ],
   "source": [
    "# Exemplo de uso: Prever o nível de glicose para um novo paciente\n",
    "\n",
    "idade = 45\n",
    "imgc = 28.5\n",
    "pressao_arterial = 130\n",
    "insulina = 150.0\n",
    "exercicio_semanal = 3\n",
    "\n",
    "\n",
    "nivel_glicose_previsto = prever_nivel_glicose(idade, imgc, pressao_arterial, insulina, exercicio_semanal)\n",
    "\n",
    "print(f\"\\n Previsão para o novo paciente:\")\n",
    "print(f\"Idade: {idade}, IMC: {imgc}, Pressão Arterial: {pressao_arterial}, Insulina: {insulina}, Exercício Semanal: {exercicio_semanal}\")\n",
    "print(f\"Nível de Glicose Previsto: {nivel_glicose_previsto:.2f}\")"
   ]
  }
 ],
 "metadata": {
  "kernelspec": {
   "display_name": "Python 3",
   "language": "python",
   "name": "python3"
  },
  "language_info": {
   "codemirror_mode": {
    "name": "ipython",
    "version": 3
   },
   "file_extension": ".py",
   "mimetype": "text/x-python",
   "name": "python",
   "nbconvert_exporter": "python",
   "pygments_lexer": "ipython3",
   "version": "3.11.9"
  }
 },
 "nbformat": 4,
 "nbformat_minor": 5
}
