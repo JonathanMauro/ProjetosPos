{
 "cells": [
  {
   "cell_type": "code",
   "execution_count": 6,
   "id": "b7b2d349",
   "metadata": {},
   "outputs": [],
   "source": [
    "from pyspark.sql import SparkSession\n",
    "from pyspark.sql.functions import col, sum, avg\n",
    "import time"
   ]
  },
  {
   "cell_type": "code",
   "execution_count": 8,
   "id": "eaed2a97",
   "metadata": {},
   "outputs": [
    {
     "name": "stdout",
     "output_type": "stream",
     "text": [
      "Tempo de execução no Spark: 0.57 segundos\n",
      "Tempo de execução no Pandas: 0.05 segundos\n",
      "== Physical Plan ==\n",
      "AdaptiveSparkPlan isFinalPlan=false\n",
      "+- HashAggregate(keys=[ano#499], functions=[sum(irpf#509)])\n",
      "   +- Exchange hashpartitioning(ano#499, 200), ENSURE_REQUIREMENTS, [plan_id=265]\n",
      "      +- HashAggregate(keys=[ano#499], functions=[partial_sum(irpf#509)])\n",
      "         +- FileScan csv [ano#499,irpf#509] Batched: false, DataFilters: [], Format: CSV, Location: InMemoryFileIndex(1 paths)[file:/c:/Users/natha/OneDrive/Área de Trabalho/POS/spark/Aula3/br_rf_a..., PartitionFilters: [], PushedFilters: [], ReadSchema: struct<ano:int,irpf:double>\n",
      "\n",
      "\n"
     ]
    }
   ],
   "source": [
    "#iniciar sessão do Spark\n",
    "spark = SparkSession.builder.appName(\"Exemplo proc.Distribuido\").getOrCreate()\n",
    "#carregar dados\n",
    "df = spark.read.csv(\"br_rf_arrecadacao_uf.csv\", header=True, inferSchema=True)\n",
    "\n",
    "#Operações básicas\n",
    "filtered_df = df.filter(col(\"ipi_automoveis\") > 1000)\n",
    "grouped_df = df.groupBy(\"sigla_uf\").agg(sum(\"irpf\").alias(\"total_irpf\"))\n",
    "\n",
    "# Oprerações complexas para comparação de desempenho\n",
    "def complex_operation(df):\n",
    "    start_time = time.time()\n",
    "    result = df.groupBy(\"ano\", \"sigla_uf\") \\\n",
    "        .agg(sum(\"irpf\").alias(\"total_irpf\"), avg(\"ipi_fumo\").alias(\"media_ipi_fumo\")) \\\n",
    "        .orderBy(\"ano\", \"sigla_uf\")\n",
    "    result.count()  # Forçar a execução\n",
    "    end_time = time.time()\n",
    "    return end_time - start_time\n",
    "\n",
    "spark_time = complex_operation(df)\n",
    "print(f\"Tempo de execução no Spark: {spark_time:.2f} segundos\")\n",
    "\n",
    "\n",
    "# Comparação com Pandas (se o conjunto de dados for pequeno o suficiente para caber na memoria)\n",
    "\n",
    "pandas_df = df.toPandas()\n",
    "\n",
    "def pandas_complex_operation(df):\n",
    "    start_time = time.time()\n",
    "    \n",
    "    result = df.groupby([\"ano\", \"sigla_uf\"]).agg({\n",
    "        \"irpf\": \"sum\",\n",
    "        \"ipi_fumo\": \"mean\"\n",
    "    }).reset_index()\n",
    "\n",
    "    result = result.sort_values(by=[\"ano\", \"sigla_uf\"])\n",
    "    \n",
    "    end_time = time.time()\n",
    "    return end_time - start_time\n",
    "\n",
    "\n",
    "\n",
    "pandas_time = pandas_complex_operation(pandas_df)\n",
    "print(f\"Tempo de execução no Pandas: {pandas_time:.2f} segundos\")\n",
    "\n",
    "# Visualizar plano de execução\n",
    "df.groupBy(\"ano\").agg(sum(\"irpf\").alias(\"totalr\")).explain()\n",
    "\n",
    "# Encerrar sessão do Spark\n",
    "spark.stop()\n",
    "           "
   ]
  }
 ],
 "metadata": {
  "kernelspec": {
   "display_name": "Python 3",
   "language": "python",
   "name": "python3"
  },
  "language_info": {
   "codemirror_mode": {
    "name": "ipython",
    "version": 3
   },
   "file_extension": ".py",
   "mimetype": "text/x-python",
   "name": "python",
   "nbconvert_exporter": "python",
   "pygments_lexer": "ipython3",
   "version": "3.11.9"
  }
 },
 "nbformat": 4,
 "nbformat_minor": 5
}
