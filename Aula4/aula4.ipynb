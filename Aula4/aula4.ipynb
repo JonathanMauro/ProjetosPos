{
 "cells": [
  {
   "cell_type": "code",
   "execution_count": 94,
   "id": "55273b5d",
   "metadata": {},
   "outputs": [],
   "source": [
    "from pyspark.sql import SparkSession\n",
    "from pyspark.sql.functions import *\n",
    "from pyspark.sql.types import *\n",
    "import json\n",
    "import csv\n",
    "import random\n",
    "from datetime import datetime,timedelta"
   ]
  },
  {
   "cell_type": "code",
   "execution_count": 95,
   "id": "b6604d39",
   "metadata": {},
   "outputs": [],
   "source": [
    "#Iniciar a sessao Spark\n",
    "spark = SparkSession.builder \\\n",
    "    .appName(\"EmpresaYAnaliseDeDados\") \\\n",
    "    .getOrCreate()"
   ]
  },
  {
   "cell_type": "code",
   "execution_count": 96,
   "id": "4e7aa5fb",
   "metadata": {},
   "outputs": [],
   "source": [
    "# Gerar dados de vendas\n",
    "def gerar_dados_vendas():\n",
    "    produtos = [\"Notebook\", \"Smartphone\", \"Tablet\", \"Monitor\", \"Teclado\", \"Mouse\", \"Impressora\", \"Cadeira\", \"Mesa\", \"Estante\"]\n",
    "    with open(\"dados_vendas.csv\", \"w\", newline='') as arquivo:\n",
    "        escritor = csv.writer(arquivo)\n",
    "        escritor.writerow([\"id_venda\", \"id_produto\",\"produto\", \"quantidade\", \"preco\", \"data\"])\n",
    "        for i in range(1000):\n",
    "            id_produto = random.randint(1, 10)\n",
    "            escritor.writerow([\n",
    "                i,\n",
    "                id_produto,\n",
    "                produtos[id_produto - 1],\n",
    "                random.randint(1, 5),  # Quantidade entre 1 e 5\n",
    "                \"{:2f}\".format(random.uniform(100.0, 1000)),  # Preço unitário entre 100 e 2000\n",
    "                datetime.now() - timedelta(days=random.randint(0, 365))  # Data aleatória nos últimos 365 dias\n",
    "            ])\n",
    "   "
   ]
  },
  {
   "cell_type": "code",
   "execution_count": 97,
   "id": "4a290fc9",
   "metadata": {},
   "outputs": [],
   "source": [
    "# Gerar dados de comportamento do cliente\n",
    "def gerar_dados_comportamento_cliente():\n",
    "    acoes = [\"visualizacao\", \"adicao_ao_carrinho\", \"compra\", \"avaliacao\"]\n",
    "    dados = []\n",
    "    for i in range(1000):\n",
    "        dados.append({\n",
    "            \"id_cliente\": random.randint(1, 100),\n",
    "            \"acao\": random.choice(acoes),\n",
    "            \"id_produto\": random.randint(1, 10),\n",
    "            \"data_hora\": (datetime.now() - timedelta(minutes =random.randint(0, 1440))).strftime(\"%Y-%m-%d %H:%M:%S\")\n",
    "        })\n",
    "    with open(\"dados_comportamento_cliente.json\", \"w\") as arquivo:\n",
    "        json.dump(dados, arquivo)\n",
    "       "
   ]
  },
  {
   "cell_type": "code",
   "execution_count": 98,
   "id": "78f14fd2",
   "metadata": {},
   "outputs": [],
   "source": [
    "# Gerar dados de Estoque\n",
    "def gerar_dados_estoque():\n",
    "    produtos = [\"Notebook\", \"Smartphone\", \"Tablet\", \"Monitor\", \"Teclado\", \"Mouse\", \"Impressora\", \"Cadeira\", \"Mesa\", \"Estante\"]\n",
    "    with open(\"dados_estoque.csv\", \"w\", newline='') as arquivo:\n",
    "        escritor = csv.writer(arquivo)\n",
    "        escritor.writerow([\"id_produto\", \"nome_produto\", \"quantidade\", \"ultima_atualizacao\" ])\n",
    "        for i in range(1,6):\n",
    "            escritor.writerow([\n",
    "                i ,\n",
    "                produtos[i - 1],\n",
    "                random.randint(0, 1000),  # Quantidade de estoque entre 0 e 100\n",
    "                datetime.now().strftime(\"%Y-%m-%d %H:%M:%S\")  # Data de registro\n",
    "            ])"
   ]
  },
  {
   "cell_type": "code",
   "execution_count": 99,
   "id": "05cd0e07",
   "metadata": {},
   "outputs": [],
   "source": [
    "# Gerar todos os dados\n",
    "gerar_dados_vendas()\n",
    "gerar_dados_comportamento_cliente()\n",
    "gerar_dados_estoque()"
   ]
  },
  {
   "cell_type": "code",
   "execution_count": 100,
   "id": "f754e4ee",
   "metadata": {},
   "outputs": [],
   "source": [
    "# Carregar os dados de vendas\n",
    "\n",
    "df_vendas = spark.read.csv(\"dados_vendas.csv\", header=True, inferSchema=True)\n",
    "\n",
    "# Carregar os dados de comportamento do cliente\n",
    "\n",
    "df_comportamento = spark.read.json(\"dados_comportamento_cliente.json\")\n",
    "\n",
    "# Carregar os dados de estoque\n",
    "\n",
    "df_estoque = spark.read.csv(\"dados_estoque.csv\", header=True, inferSchema=True)\n",
    "\n"
   ]
  },
  {
   "cell_type": "code",
   "execution_count": 101,
   "id": "3a47c36f",
   "metadata": {},
   "outputs": [
    {
     "name": "stdout",
     "output_type": "stream",
     "text": [
      "+------------------+-------------------+----------+----------+\n",
      "|              acao|          data_hora|id_cliente|id_produto|\n",
      "+------------------+-------------------+----------+----------+\n",
      "|adicao_ao_carrinho|2025-07-26 20:57:20|        54|        10|\n",
      "|adicao_ao_carrinho|2025-07-27 06:54:20|        39|         8|\n",
      "|            compra|2025-07-27 01:44:20|        84|         5|\n",
      "|         avaliacao|2025-07-26 10:38:20|        94|        10|\n",
      "|         avaliacao|2025-07-27 00:58:20|        76|         4|\n",
      "|         avaliacao|2025-07-27 03:48:20|         9|         4|\n",
      "|      visualizacao|2025-07-26 10:58:20|        52|         8|\n",
      "|         avaliacao|2025-07-26 12:13:20|        85|         7|\n",
      "|adicao_ao_carrinho|2025-07-27 05:23:20|        89|         6|\n",
      "|      visualizacao|2025-07-27 00:57:20|        87|         1|\n",
      "|      visualizacao|2025-07-26 08:08:20|        58|         9|\n",
      "|            compra|2025-07-27 03:52:20|        32|         9|\n",
      "|            compra|2025-07-26 23:35:20|        57|         8|\n",
      "|         avaliacao|2025-07-27 01:46:20|        70|         8|\n",
      "|      visualizacao|2025-07-26 07:33:20|        11|         4|\n",
      "|adicao_ao_carrinho|2025-07-27 03:20:20|        39|         5|\n",
      "|            compra|2025-07-26 13:00:20|        51|         5|\n",
      "|adicao_ao_carrinho|2025-07-26 10:33:20|        22|         4|\n",
      "|         avaliacao|2025-07-26 15:16:20|        89|         8|\n",
      "|      visualizacao|2025-07-26 12:38:20|        76|         4|\n",
      "+------------------+-------------------+----------+----------+\n",
      "only showing top 20 rows\n"
     ]
    }
   ],
   "source": [
    "df_comportamento.show()"
   ]
  },
  {
   "cell_type": "code",
   "execution_count": 102,
   "id": "1f95fced",
   "metadata": {},
   "outputs": [],
   "source": [
    "# Processar os dados de vendas\n",
    "\n",
    "resumo_vendas = df_vendas.groupBy(\"id_produto\",\"produto\")\\\n",
    "    .agg(\n",
    "        sum(\"quantidade\").alias(\"quantidade_total_vendida\"),\n",
    "        sum(col(\"quantidade\") * col(\"preco\")).alias(\"receita_total\")\n",
    "    )\n"
   ]
  },
  {
   "cell_type": "code",
   "execution_count": 103,
   "id": "063199fa",
   "metadata": {},
   "outputs": [
    {
     "name": "stdout",
     "output_type": "stream",
     "text": [
      "+----------+------------+----------+-------------------+\n",
      "|id_produto|nome_produto|quantidade| ultima_atualizacao|\n",
      "+----------+------------+----------+-------------------+\n",
      "|         1|    Notebook|        79|2025-07-27 07:18:20|\n",
      "|         2|  Smartphone|       336|2025-07-27 07:18:20|\n",
      "|         3|      Tablet|        69|2025-07-27 07:18:20|\n",
      "|         4|     Monitor|       859|2025-07-27 07:18:20|\n",
      "|         5|     Teclado|       176|2025-07-27 07:18:20|\n",
      "+----------+------------+----------+-------------------+\n",
      "\n"
     ]
    }
   ],
   "source": [
    "df_estoque.show()"
   ]
  },
  {
   "cell_type": "code",
   "execution_count": 104,
   "id": "9742ae2b",
   "metadata": {},
   "outputs": [],
   "source": [
    "# Processar dados de comportamento do cliente\n",
    "resumo_comportamento_cliente = df_comportamento.groupBy(\"id_produto\", \"acao\") \\\n",
    "    .count() \\\n",
    "    .groupBy(\"id_produto\") \\\n",
    "    .agg(\n",
    "        sum(when(col(\"acao\") == \"visualizacao\", col(\"count\")).otherwise(0)).alias(\"visualizacoes\"),\n",
    "        sum(when(col(\"acao\") == \"adicao_ao_carrinho\", col(\"count\")).otherwise(0)).alias(\"adicoes_ao_carrinho\"),\n",
    "        sum(when(col(\"acao\") == \"compra\", col(\"count\")).otherwise(0)).alias(\"compras\"),\n",
    "        sum(when(col(\"acao\") == \"avaliacao\", col(\"count\")).otherwise(0)).alias(\"avaliacoes\")  \n",
    "    )"
   ]
  },
  {
   "cell_type": "code",
   "execution_count": 105,
   "id": "7d1160da",
   "metadata": {},
   "outputs": [],
   "source": [
    "#  Processar dados de estoque\n",
    "\n",
    "produtos_baixo_estoque = df_estoque.filter(col(\"quantidade\") < 100)\n",
    "\n",
    "# Juntar dados de vendas e estoque\n",
    "\n",
    "vendas_estoque = resumo_vendas.join(df_estoque, resumo_vendas.id_produto == df_estoque.id_produto, \"left\")\n",
    "\n",
    "\n",
    "\n",
    "#Calcular produtos mais vendidos com baixo estoque\n",
    "mais_vendido_baixo_estoque = vendas_estoque.filter(col(\"quantidade\") < 100)\\\n",
    "    .orderBy(col(\"quantidade_total_vendida\").desc())\\\n",
    "    .limit(5)\n",
    "\n",
    "\n",
    "\n",
    "\n",
    "# Analisar comportamento do cliente para produtos mais vendidos\n",
    "\n",
    "produtos_top = resumo_vendas.orderBy(col(\"quantidade_total_vendida\").desc()).limit(5)\n",
    "comportamento_produtos_top = resumo_comportamento_cliente.join(produtos_top, resumo_comportamento_cliente.id_produto == produtos_top.id_produto, \"inner\")\n",
    "\n",
    "\n",
    "\n"
   ]
  },
  {
   "cell_type": "code",
   "execution_count": 107,
   "id": "6fa942ed",
   "metadata": {},
   "outputs": [
    {
     "name": "stdout",
     "output_type": "stream",
     "text": [
      "Top 5 produtos mais vendidos com baixo estoque:\n",
      "+----------+--------+------------------------+------------------+----------+------------+----------+-------------------+\n",
      "|id_produto| produto|quantidade_total_vendida|     receita_total|id_produto|nome_produto|quantidade| ultima_atualizacao|\n",
      "+----------+--------+------------------------+------------------+----------+------------+----------+-------------------+\n",
      "|         3|  Tablet|                     333|182682.12400399995|         3|      Tablet|        69|2025-07-27 07:18:20|\n",
      "|         1|Notebook|                     262|152247.23004300005|         1|    Notebook|        79|2025-07-27 07:18:20|\n",
      "+----------+--------+------------------------+------------------+----------+------------+----------+-------------------+\n",
      "\n",
      "\n",
      " Comportamento dos clientes para os produtos mais vendidos:\n",
      "+----------+-------------+-------------------+-------+----------+----------+----------+------------------------+------------------+\n",
      "|id_produto|visualizacoes|adicoes_ao_carrinho|compras|avaliacoes|id_produto|   produto|quantidade_total_vendida|     receita_total|\n",
      "+----------+-------------+-------------------+-------+----------+----------+----------+------------------------+------------------+\n",
      "|         6|           34|                 26|     32|        29|         6|     Mouse|                     342|     172608.668411|\n",
      "|        10|           21|                 28|     24|        27|        10|   Estante|                     297|158026.41148199997|\n",
      "|         3|           19|                 26|     17|        27|         3|    Tablet|                     333|182682.12400399995|\n",
      "|         2|           28|                 29|     22|        21|         2|Smartphone|                     337|172634.71954299993|\n",
      "|         4|           21|                 23|     27|        17|         4|   Monitor|                     353|191073.75169900001|\n",
      "+----------+-------------+-------------------+-------+----------+----------+----------+------------------------+------------------+\n",
      "\n",
      "\n",
      "Taxa de conversão por produtos:\n",
      "+----------+-------------+-------------------+-------+----------+------------------+\n",
      "|id_produto|visualizacoes|adicoes_ao_carrinho|compras|avaliacoes|    taxa_conversao|\n",
      "+----------+-------------+-------------------+-------+----------+------------------+\n",
      "|         8|           18|                 30|     27|        25|1.4917127071823204|\n",
      "|         4|           21|                 23|     27|        17|1.2796208530805686|\n",
      "|        10|           21|                 28|     24|        27|1.1374407582938388|\n",
      "|         9|           27|                 28|     28|        17| 1.033210332103321|\n",
      "|         1|           26|                 22|     25|        26|0.9578544061302682|\n",
      "|         7|           24|                 26|     23|        31| 0.954356846473029|\n",
      "|         6|           34|                 26|     32|        29|  0.93841642228739|\n",
      "|         3|           19|                 26|     17|        27|0.8900523560209423|\n",
      "|         2|           28|                 29|     22|        21|0.7829181494661921|\n",
      "|         5|           33|                 23|     23|        20|0.6948640483383686|\n",
      "+----------+-------------+-------------------+-------+----------+------------------+\n",
      "\n"
     ]
    },
    {
     "data": {
      "text/plain": [
       "'\\nmais_vendido_baixo_estoque.write.csv(\"mais_vendido_baixo_estoque.csv\", header=True)\\ncomportamento_produtos_top.write.csv(\"comportamento_produtos_top.csv\", header=True)\\ntaxa_conversao.write.csv(\"taxa_conversao.csv\", header=True) \\n\\n'"
      ]
     },
     "execution_count": 107,
     "metadata": {},
     "output_type": "execute_result"
    }
   ],
   "source": [
    "# Calcular taxa de conversao (visualizações para compras)\n",
    "\n",
    "taxa_conversao = resumo_comportamento_cliente.withColumn(\n",
    "    \"taxa_conversao\",\n",
    "    col(\"compras\") / (col(\"visualizacoes\") + 0.1)  # para evitar divisão por zero\n",
    ")\n",
    "\n",
    "\n",
    "print(\"Top 5 produtos mais vendidos com baixo estoque:\")\n",
    "mais_vendido_baixo_estoque.show()\n",
    "\n",
    "print(\"\\n Comportamento dos clientes para os produtos mais vendidos:\")\n",
    "comportamento_produtos_top.show()\n",
    "\n",
    "print(\"\\nTaxa de conversão por produtos:\")\n",
    "taxa_conversao.orderBy(col(\"taxa_conversao\").desc()).show()\n",
    "\n",
    "\n",
    "\n",
    "# Salvar os resultados em arquivos CSV\n",
    "'''\n",
    "mais_vendido_baixo_estoque.write.csv(\"mais_vendido_baixo_estoque.csv\", header=True)\n",
    "comportamento_produtos_top.write.csv(\"comportamento_produtos_top.csv\", header=True)\n",
    "taxa_conversao.write.csv(\"taxa_conversao.csv\", header=True) \n",
    "\n",
    "'''"
   ]
  }
 ],
 "metadata": {
  "kernelspec": {
   "display_name": "Python 3",
   "language": "python",
   "name": "python3"
  },
  "language_info": {
   "codemirror_mode": {
    "name": "ipython",
    "version": 3
   },
   "file_extension": ".py",
   "mimetype": "text/x-python",
   "name": "python",
   "nbconvert_exporter": "python",
   "pygments_lexer": "ipython3",
   "version": "3.11.9"
  }
 },
 "nbformat": 4,
 "nbformat_minor": 5
}
